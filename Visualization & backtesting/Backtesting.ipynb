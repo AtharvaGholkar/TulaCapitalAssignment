{
  "nbformat": 4,
  "nbformat_minor": 0,
  "metadata": {
    "colab": {
      "provenance": []
    },
    "kernelspec": {
      "name": "python3",
      "display_name": "Python 3"
    },
    "language_info": {
      "name": "python"
    }
  },
  "cells": [
    {
      "cell_type": "markdown",
      "source": [
        "### Backtesting the strategy"
      ],
      "metadata": {
        "id": "5TQlo7IBJfHI"
      }
    },
    {
      "cell_type": "markdown",
      "source": [
        "### Importing the required libraries."
      ],
      "metadata": {
        "id": "evelvEjqJqwf"
      }
    },
    {
      "cell_type": "code",
      "source": [
        "import pandas as pd\n",
        "import pandas_ta as ta"
      ],
      "metadata": {
        "id": "Sk6lRj6AJfOw"
      },
      "execution_count": 25,
      "outputs": []
    },
    {
      "cell_type": "markdown",
      "source": [
        "### Load your dataset\n"
      ],
      "metadata": {
        "id": "gUvSYBOdJfVe"
      }
    },
    {
      "cell_type": "code",
      "source": [
        "file_path = '/backtestingdata.xlsx'\n",
        "data = pd.read_excel(file_path)\n",
        "data['date'] = pd.to_datetime(data['date'])\n",
        "data.set_index('date', inplace=True)"
      ],
      "metadata": {
        "id": "GnJe6sErJfbr"
      },
      "execution_count": 26,
      "outputs": []
    },
    {
      "cell_type": "markdown",
      "source": [
        "### Calculate SMA, Bollinger Bands, and RSI\n"
      ],
      "metadata": {
        "id": "Pr2c2DnUJfiC"
      }
    },
    {
      "cell_type": "code",
      "source": [
        "data['SMA'] = ta.sma(data['close'], length=7)\n",
        "bbands = ta.bbands(data['close'], length=7, std=1.4)\n",
        "data['RSI'] = ta.rsi(data['close'], length=14)\n",
        "data = pd.concat([data, bbands], axis=1)"
      ],
      "metadata": {
        "id": "hNkClQYaJfnE"
      },
      "execution_count": 27,
      "outputs": []
    },
    {
      "cell_type": "markdown",
      "source": [
        "### Initialize columns for signals and positions"
      ],
      "metadata": {
        "id": "BdjVtCLLJfr7"
      }
    },
    {
      "cell_type": "code",
      "source": [
        "data['signal'] = 0  # Buy=1, Sell=-1, Hold=0\n",
        "data['position'] = 0"
      ],
      "metadata": {
        "id": "0Ro_b7cmJfxA"
      },
      "execution_count": 28,
      "outputs": []
    },
    {
      "cell_type": "markdown",
      "source": [
        "### Define RSI thresholds"
      ],
      "metadata": {
        "id": "NUZwVQjHJf1w"
      }
    },
    {
      "cell_type": "code",
      "source": [
        "rsi_lower_threshold = 30\n",
        "rsi_upper_threshold = 70"
      ],
      "metadata": {
        "id": "O4oMcRzKJf6Y"
      },
      "execution_count": 29,
      "outputs": []
    },
    {
      "cell_type": "markdown",
      "source": [
        "### Generate Signals"
      ],
      "metadata": {
        "id": "ZbIO1_vMJf_N"
      }
    },
    {
      "cell_type": "code",
      "source": [
        "for i in range(1, len(data)):\n",
        "    # Buy signals\n",
        "    if (data['close'][i] > data['SMA'][i] or data['close'][i] > data['BBL_7_1.4'][i]) and data['RSI'][i] < rsi_lower_threshold:\n",
        "        data['signal'][i] = 1\n",
        "\n",
        "    # Sell signals\n",
        "    elif (data['close'][i] < data['SMA'][i] or data['close'][i] < data['BBU_7_1.4'][i]) and data['RSI'][i] > rsi_upper_threshold:\n",
        "        data['signal'][i] = -1\n",
        "\n",
        "    # Hold\n",
        "    else:\n",
        "        data['signal'][i] = 0"
      ],
      "metadata": {
        "id": "6Z7crNCnJgDf"
      },
      "execution_count": null,
      "outputs": []
    },
    {
      "cell_type": "markdown",
      "source": [
        "### Determine positions (1 for held, 0 for not held)"
      ],
      "metadata": {
        "id": "_bRbr2SGKvse"
      }
    },
    {
      "cell_type": "code",
      "source": [
        "data['position'] = data['signal'].replace(to_replace=0, method='ffill')"
      ],
      "metadata": {
        "id": "OTM_KpqWKvz3"
      },
      "execution_count": 31,
      "outputs": []
    },
    {
      "cell_type": "markdown",
      "source": [
        "### Backtest performance (assuming 1 share traded per signal)"
      ],
      "metadata": {
        "id": "rFHjD_w_Kv6q"
      }
    },
    {
      "cell_type": "code",
      "source": [
        "data['daily_return'] = data['close'].pct_change()\n",
        "data['strategy_return'] = data['daily_return'] * data['position'].shift()"
      ],
      "metadata": {
        "id": "NdoBNayQKwBT"
      },
      "execution_count": 32,
      "outputs": []
    },
    {
      "cell_type": "markdown",
      "source": [
        "### Calculate cumulative returns"
      ],
      "metadata": {
        "id": "6Q6jfynzLQtI"
      }
    },
    {
      "cell_type": "code",
      "source": [
        "data['cumulative_market_return'] = (1 + data['daily_return']).cumprod()\n",
        "data['cumulative_strategy_return'] = (1 + data['strategy_return']).cumprod()"
      ],
      "metadata": {
        "id": "M2SAUHVGLQ0H"
      },
      "execution_count": 33,
      "outputs": []
    },
    {
      "cell_type": "markdown",
      "source": [
        "### Calculate total profit/loss"
      ],
      "metadata": {
        "id": "cOZ8SrHiLQ65"
      }
    },
    {
      "cell_type": "code",
      "source": [
        "initial_investment = 100000  # Example: 100,000 currency units\n",
        "market_profit_loss = (data['cumulative_market_return'].iloc[-1] - 1) * initial_investment\n",
        "strategy_profit_loss = (data['cumulative_strategy_return'].iloc[-1] - 1) * initial_investment"
      ],
      "metadata": {
        "id": "oE5VkkZzLRA9"
      },
      "execution_count": 34,
      "outputs": []
    },
    {
      "cell_type": "markdown",
      "source": [
        "### Display results"
      ],
      "metadata": {
        "id": "NJ0eIfo6LUR9"
      }
    },
    {
      "cell_type": "code",
      "source": [
        "print(f\"Market Profit/Loss: {market_profit_loss:.2f}\")\n",
        "print(f\"Strategy Profit/Loss: {strategy_profit_loss:.2f}\")"
      ],
      "metadata": {
        "colab": {
          "base_uri": "https://localhost:8080/"
        },
        "id": "B8aLD2IRLUXt",
        "outputId": "63f24b98-bba7-4b25-9c51-d6a0b05e9729"
      },
      "execution_count": 35,
      "outputs": [
        {
          "output_type": "stream",
          "name": "stdout",
          "text": [
            "Market Profit/Loss: 1657.96\n",
            "Strategy Profit/Loss: 1521.13\n"
          ]
        }
      ]
    }
  ]
}
